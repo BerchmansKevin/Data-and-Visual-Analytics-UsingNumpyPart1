{
 "cells": [
  {
   "cell_type": "markdown",
   "id": "e40e7436",
   "metadata": {},
   "source": [
    "# `BERCHMANS KEVIN S`\n"
   ]
  },
  {
   "cell_type": "markdown",
   "id": "9fa9d7fb",
   "metadata": {},
   "source": [
    "## Department of Data Science - Data and Visual Analytics Lab"
   ]
  },
  {
   "cell_type": "markdown",
   "id": "aa80759c",
   "metadata": {},
   "source": [
    "\n",
    "## `Red Wine Quality Data Analytics using NumPy Part-I`"
   ]
  },
  {
   "cell_type": "code",
   "execution_count": 1,
   "id": "4af0143a",
   "metadata": {},
   "outputs": [
    {
     "data": {
      "text/plain": [
       "'\\nwine quality dataset 11 input features and 1 output feature \\n\\n1- fixed acidity\\n2- volatile acidity\\n3-citric acid\\n4-residual sugar\\n5-chlorides\\n6-free sulfurdioxide\\n7- total sulfur dioxide\\n8- density\\n9- pH\\n10- sulphates\\n11- alcohol output variable(based on sensory data): \\n12- quality(score between 0 and 10)'"
      ]
     },
     "execution_count": 1,
     "metadata": {},
     "output_type": "execute_result"
    }
   ],
   "source": [
    "'''\n",
    "wine quality dataset 11 input features and 1 output feature \n",
    "\n",
    "1- fixed acidity\n",
    "2- volatile acidity\n",
    "3-citric acid\n",
    "4-residual sugar\n",
    "5-chlorides\n",
    "6-free sulfurdioxide\n",
    "7- total sulfur dioxide\n",
    "8- density\n",
    "9- pH\n",
    "10- sulphates\n",
    "11- alcohol output variable(based on sensory data): \n",
    "12- quality(score between 0 and 10)'''"
   ]
  },
  {
   "cell_type": "markdown",
   "id": "1c6f789a",
   "metadata": {},
   "source": [
    "### import modules for numpy"
   ]
  },
  {
   "cell_type": "code",
   "execution_count": 2,
   "id": "2ff2094f",
   "metadata": {},
   "outputs": [],
   "source": [
    "import numpy as np"
   ]
  },
  {
   "cell_type": "code",
   "execution_count": 3,
   "id": "3a04adc7",
   "metadata": {},
   "outputs": [],
   "source": [
    "wines = np.genfromtxt(\"winequality-red.csv\", delimiter=\";\", skip_header=1)"
   ]
  },
  {
   "cell_type": "code",
   "execution_count": 4,
   "id": "70b876a5",
   "metadata": {},
   "outputs": [
    {
     "data": {
      "text/plain": [
       "array([[ 7.4  ,  0.7  ,  0.   , ...,  0.56 ,  9.4  ,  5.   ],\n",
       "       [ 7.8  ,  0.88 ,  0.   , ...,  0.68 ,  9.8  ,  5.   ],\n",
       "       [ 7.8  ,  0.76 ,  0.04 , ...,  0.65 ,  9.8  ,  5.   ],\n",
       "       ...,\n",
       "       [ 6.3  ,  0.51 ,  0.13 , ...,  0.75 , 11.   ,  6.   ],\n",
       "       [ 5.9  ,  0.645,  0.12 , ...,  0.71 , 10.2  ,  5.   ],\n",
       "       [ 6.   ,  0.31 ,  0.47 , ...,  0.66 , 11.   ,  6.   ]])"
      ]
     },
     "execution_count": 4,
     "metadata": {},
     "output_type": "execute_result"
    }
   ],
   "source": [
    "wines"
   ]
  },
  {
   "cell_type": "markdown",
   "id": "9cd45c5f",
   "metadata": {},
   "source": [
    "#### What is its size?"
   ]
  },
  {
   "cell_type": "code",
   "execution_count": 5,
   "id": "dc9d2e66",
   "metadata": {},
   "outputs": [
    {
     "data": {
      "text/plain": [
       "(1599, 12)"
      ]
     },
     "execution_count": 5,
     "metadata": {},
     "output_type": "execute_result"
    }
   ],
   "source": [
    "np.shape(wines)"
   ]
  },
  {
   "cell_type": "markdown",
   "id": "bc4f5aac",
   "metadata": {},
   "source": [
    "#### How many wine data rows here? \n"
   ]
  },
  {
   "cell_type": "code",
   "execution_count": 6,
   "id": "9389596f",
   "metadata": {},
   "outputs": [
    {
     "data": {
      "text/plain": [
       "1599"
      ]
     },
     "execution_count": 6,
     "metadata": {},
     "output_type": "execute_result"
    }
   ],
   "source": [
    "np.shape(wines)[0]"
   ]
  },
  {
   "cell_type": "markdown",
   "id": "acc6ce5b",
   "metadata": {},
   "source": [
    "#### How many wine data columns here? "
   ]
  },
  {
   "cell_type": "code",
   "execution_count": 7,
   "id": "7d52793e",
   "metadata": {},
   "outputs": [
    {
     "data": {
      "text/plain": [
       "12"
      ]
     },
     "execution_count": 7,
     "metadata": {},
     "output_type": "execute_result"
    }
   ],
   "source": [
    "np.shape(wines)[1]"
   ]
  },
  {
   "cell_type": "markdown",
   "id": "e50d456a",
   "metadata": {},
   "source": [
    "#### How many dimensions? "
   ]
  },
  {
   "cell_type": "code",
   "execution_count": 8,
   "id": "5da64017",
   "metadata": {},
   "outputs": [
    {
     "data": {
      "text/plain": [
       "2"
      ]
     },
     "execution_count": 8,
     "metadata": {},
     "output_type": "execute_result"
    }
   ],
   "source": [
    "np.ndim(wines)"
   ]
  },
  {
   "cell_type": "markdown",
   "id": "1b3addb6",
   "metadata": {},
   "source": [
    "#### What is the type of wines? \n"
   ]
  },
  {
   "cell_type": "code",
   "execution_count": 9,
   "id": "b277c366",
   "metadata": {},
   "outputs": [
    {
     "data": {
      "text/plain": [
       "numpy.ndarray"
      ]
     },
     "execution_count": 9,
     "metadata": {},
     "output_type": "execute_result"
    }
   ],
   "source": [
    "type(wines)"
   ]
  },
  {
   "cell_type": "markdown",
   "id": "9579f6b4",
   "metadata": {},
   "source": [
    "#### What is the data type of wines data? "
   ]
  },
  {
   "cell_type": "code",
   "execution_count": 10,
   "id": "2e5435dd",
   "metadata": {},
   "outputs": [
    {
     "data": {
      "text/plain": [
       "dtype('float64')"
      ]
     },
     "execution_count": 10,
     "metadata": {},
     "output_type": "execute_result"
    }
   ],
   "source": [
    "wines.dtype"
   ]
  },
  {
   "cell_type": "markdown",
   "id": "9f0912bf",
   "metadata": {},
   "source": [
    "#### Show top 5 rows "
   ]
  },
  {
   "cell_type": "code",
   "execution_count": 11,
   "id": "52ffe8ce",
   "metadata": {},
   "outputs": [
    {
     "data": {
      "text/plain": [
       "array([[7.400e+00, 7.000e-01, 0.000e+00, 1.900e+00, 7.600e-02, 1.100e+01,\n",
       "        3.400e+01, 9.978e-01, 3.510e+00, 5.600e-01, 9.400e+00, 5.000e+00],\n",
       "       [7.800e+00, 8.800e-01, 0.000e+00, 2.600e+00, 9.800e-02, 2.500e+01,\n",
       "        6.700e+01, 9.968e-01, 3.200e+00, 6.800e-01, 9.800e+00, 5.000e+00],\n",
       "       [7.800e+00, 7.600e-01, 4.000e-02, 2.300e+00, 9.200e-02, 1.500e+01,\n",
       "        5.400e+01, 9.970e-01, 3.260e+00, 6.500e-01, 9.800e+00, 5.000e+00],\n",
       "       [1.120e+01, 2.800e-01, 5.600e-01, 1.900e+00, 7.500e-02, 1.700e+01,\n",
       "        6.000e+01, 9.980e-01, 3.160e+00, 5.800e-01, 9.800e+00, 6.000e+00],\n",
       "       [7.400e+00, 7.000e-01, 0.000e+00, 1.900e+00, 7.600e-02, 1.100e+01,\n",
       "        3.400e+01, 9.978e-01, 3.510e+00, 5.600e-01, 9.400e+00, 5.000e+00]])"
      ]
     },
     "execution_count": 11,
     "metadata": {},
     "output_type": "execute_result"
    }
   ],
   "source": [
    "wines[:5]"
   ]
  },
  {
   "cell_type": "markdown",
   "id": "3c66d17a",
   "metadata": {},
   "source": [
    "#### What is the value at 3rd row, 4th column of wine data? "
   ]
  },
  {
   "cell_type": "code",
   "execution_count": 12,
   "id": "779052fd",
   "metadata": {},
   "outputs": [
    {
     "name": "stdout",
     "output_type": "stream",
     "text": [
      "2.3\n"
     ]
    }
   ],
   "source": [
    "print(wines[2,3])"
   ]
  },
  {
   "cell_type": "markdown",
   "id": "f7942792",
   "metadata": {},
   "source": [
    "#### Select first 3 items in 4th column "
   ]
  },
  {
   "cell_type": "code",
   "execution_count": 13,
   "id": "917fde49",
   "metadata": {},
   "outputs": [
    {
     "name": "stdout",
     "output_type": "stream",
     "text": [
      "[1.9 2.6 2.3]\n"
     ]
    }
   ],
   "source": [
    "print(wines[:3,3])"
   ]
  },
  {
   "cell_type": "markdown",
   "id": "f83d8df7",
   "metadata": {},
   "source": [
    "#### Show 1st column "
   ]
  },
  {
   "cell_type": "code",
   "execution_count": 14,
   "id": "c048e3fa",
   "metadata": {},
   "outputs": [
    {
     "data": {
      "text/plain": [
       "array([7.4, 7.8, 7.8, ..., 6.3, 5.9, 6. ])"
      ]
     },
     "execution_count": 14,
     "metadata": {},
     "output_type": "execute_result"
    }
   ],
   "source": [
    "wines[:,0]"
   ]
  },
  {
   "cell_type": "markdown",
   "id": "377e3aef",
   "metadata": {},
   "source": [
    "#### Show 2nd row "
   ]
  },
  {
   "cell_type": "code",
   "execution_count": 15,
   "id": "f14cde53",
   "metadata": {},
   "outputs": [
    {
     "data": {
      "text/plain": [
       "array([ 7.8   ,  0.88  ,  0.    ,  2.6   ,  0.098 , 25.    , 67.    ,\n",
       "        0.9968,  3.2   ,  0.68  ,  9.8   ,  5.    ])"
      ]
     },
     "execution_count": 15,
     "metadata": {},
     "output_type": "execute_result"
    }
   ],
   "source": [
    "wines[1]"
   ]
  },
  {
   "cell_type": "markdown",
   "id": "452da71d",
   "metadata": {},
   "source": [
    "#### Select items from rows 1 to 3 and 5th column "
   ]
  },
  {
   "cell_type": "code",
   "execution_count": 16,
   "id": "92efe914",
   "metadata": {},
   "outputs": [
    {
     "name": "stdout",
     "output_type": "stream",
     "text": [
      "[0.098 0.092 0.075]\n"
     ]
    }
   ],
   "source": [
    "print(wines[1:4,4])"
   ]
  },
  {
   "cell_type": "markdown",
   "id": "0dde689a",
   "metadata": {},
   "source": [
    "#### Select entire array"
   ]
  },
  {
   "cell_type": "code",
   "execution_count": 17,
   "id": "a9607151",
   "metadata": {},
   "outputs": [
    {
     "data": {
      "text/plain": [
       "array([[ 7.4  ,  0.7  ,  0.   , ...,  0.56 ,  9.4  ,  5.   ],\n",
       "       [ 7.8  ,  0.88 ,  0.   , ...,  0.68 ,  9.8  ,  5.   ],\n",
       "       [ 7.8  ,  0.76 ,  0.04 , ...,  0.65 ,  9.8  ,  5.   ],\n",
       "       ...,\n",
       "       [ 6.3  ,  0.51 ,  0.13 , ...,  0.75 , 11.   ,  6.   ],\n",
       "       [ 5.9  ,  0.645,  0.12 , ...,  0.71 , 10.2  ,  5.   ],\n",
       "       [ 6.   ,  0.31 ,  0.47 , ...,  0.66 , 11.   ,  6.   ]])"
      ]
     },
     "execution_count": 17,
     "metadata": {},
     "output_type": "execute_result"
    }
   ],
   "source": [
    "wines[:]"
   ]
  },
  {
   "cell_type": "markdown",
   "id": "e8164b00",
   "metadata": {},
   "source": [
    "#### Change 1st value in wines to 100 "
   ]
  },
  {
   "cell_type": "code",
   "execution_count": 18,
   "id": "c8d8f2a1",
   "metadata": {},
   "outputs": [
    {
     "data": {
      "text/plain": [
       "7.4"
      ]
     },
     "execution_count": 18,
     "metadata": {},
     "output_type": "execute_result"
    }
   ],
   "source": [
    "wines[0,0]"
   ]
  },
  {
   "cell_type": "code",
   "execution_count": 19,
   "id": "2fe61d96",
   "metadata": {},
   "outputs": [],
   "source": [
    "wines[0,0] = 100"
   ]
  },
  {
   "cell_type": "code",
   "execution_count": 20,
   "id": "a269e0f8",
   "metadata": {},
   "outputs": [
    {
     "data": {
      "text/plain": [
       "100.0"
      ]
     },
     "execution_count": 20,
     "metadata": {},
     "output_type": "execute_result"
    }
   ],
   "source": [
    "wines[0,0]"
   ]
  },
  {
   "cell_type": "markdown",
   "id": "be37fd1f",
   "metadata": {},
   "source": [
    "#### Change it back to 7.4 and print\n"
   ]
  },
  {
   "cell_type": "code",
   "execution_count": 21,
   "id": "a1b7c648",
   "metadata": {},
   "outputs": [],
   "source": [
    "a = wines[0,0] = 7.4"
   ]
  },
  {
   "cell_type": "code",
   "execution_count": 22,
   "id": "4ca00609",
   "metadata": {},
   "outputs": [
    {
     "data": {
      "text/plain": [
       "7.4"
      ]
     },
     "execution_count": 22,
     "metadata": {},
     "output_type": "execute_result"
    }
   ],
   "source": [
    "a"
   ]
  },
  {
   "cell_type": "markdown",
   "id": "97dccee2",
   "metadata": {},
   "source": [
    "### 1-Dimensional Numpy Arrays"
   ]
  },
  {
   "cell_type": "markdown",
   "id": "7e5760b4",
   "metadata": {},
   "source": [
    "#### Select 4th row all column values"
   ]
  },
  {
   "cell_type": "code",
   "execution_count": 23,
   "id": "14ef229c",
   "metadata": {},
   "outputs": [],
   "source": [
    "a = wines[3,:]"
   ]
  },
  {
   "cell_type": "markdown",
   "id": "525e4492",
   "metadata": {},
   "source": [
    "####  Display its values"
   ]
  },
  {
   "cell_type": "code",
   "execution_count": 24,
   "id": "90e65208",
   "metadata": {},
   "outputs": [
    {
     "name": "stdout",
     "output_type": "stream",
     "text": [
      "[11.2    0.28   0.56   1.9    0.075 17.    60.     0.998  3.16   0.58\n",
      "  9.8    6.   ]\n"
     ]
    }
   ],
   "source": [
    "print(a)"
   ]
  },
  {
   "cell_type": "markdown",
   "id": "a0e8e04a",
   "metadata": {},
   "source": [
    "#### Show the 2 values"
   ]
  },
  {
   "cell_type": "code",
   "execution_count": 25,
   "id": "0780113b",
   "metadata": {},
   "outputs": [
    {
     "data": {
      "text/plain": [
       "0.28"
      ]
     },
     "execution_count": 25,
     "metadata": {},
     "output_type": "execute_result"
    }
   ],
   "source": [
    "a[1]"
   ]
  },
  {
   "cell_type": "markdown",
   "id": "fb6b7b2c",
   "metadata": {},
   "source": [
    "#### int_array = float_array.astype(int)"
   ]
  },
  {
   "cell_type": "code",
   "execution_count": 26,
   "id": "7c276812",
   "metadata": {},
   "outputs": [],
   "source": [
    "a = wines.astype(int)"
   ]
  },
  {
   "cell_type": "code",
   "execution_count": 27,
   "id": "efb208a8",
   "metadata": {},
   "outputs": [
    {
     "data": {
      "text/plain": [
       "array([[ 7,  0,  0, ...,  0,  9,  5],\n",
       "       [ 7,  0,  0, ...,  0,  9,  5],\n",
       "       [ 7,  0,  0, ...,  0,  9,  5],\n",
       "       ...,\n",
       "       [ 6,  0,  0, ...,  0, 11,  6],\n",
       "       [ 5,  0,  0, ...,  0, 10,  5],\n",
       "       [ 6,  0,  0, ...,  0, 11,  6]])"
      ]
     },
     "execution_count": 27,
     "metadata": {},
     "output_type": "execute_result"
    }
   ],
   "source": [
    "a"
   ]
  },
  {
   "cell_type": "markdown",
   "id": "50e86183",
   "metadata": {},
   "source": [
    "### Vectorization Operations"
   ]
  },
  {
   "cell_type": "markdown",
   "id": "05cb2117",
   "metadata": {},
   "source": [
    "#### Increase wine quality score (output variable) by 10 "
   ]
  },
  {
   "cell_type": "code",
   "execution_count": 28,
   "id": "3f4c9803",
   "metadata": {},
   "outputs": [
    {
     "data": {
      "text/plain": [
       "array([5., 5., 5., ..., 6., 5., 6.])"
      ]
     },
     "execution_count": 28,
     "metadata": {},
     "output_type": "execute_result"
    }
   ],
   "source": [
    "wines[:,-1]"
   ]
  },
  {
   "cell_type": "markdown",
   "id": "d3c800fb",
   "metadata": {},
   "source": [
    "#### increase by 10"
   ]
  },
  {
   "cell_type": "code",
   "execution_count": 29,
   "id": "59fc930d",
   "metadata": {},
   "outputs": [],
   "source": [
    "quality = wines[:,-1] + 10"
   ]
  },
  {
   "cell_type": "markdown",
   "id": "3875ea40",
   "metadata": {},
   "source": [
    "#### Display update score"
   ]
  },
  {
   "cell_type": "code",
   "execution_count": 30,
   "id": "320edbee",
   "metadata": {},
   "outputs": [
    {
     "data": {
      "text/plain": [
       "array([15., 15., 15., ..., 16., 15., 16.])"
      ]
     },
     "execution_count": 30,
     "metadata": {},
     "output_type": "execute_result"
    }
   ],
   "source": [
    "quality"
   ]
  },
  {
   "cell_type": "markdown",
   "id": "e49a5c3f",
   "metadata": {},
   "source": [
    "#### Multiply alcohol of all wine data by 3 times"
   ]
  },
  {
   "cell_type": "code",
   "execution_count": 31,
   "id": "f590b037",
   "metadata": {},
   "outputs": [],
   "source": [
    "alcohol = wines[:,10] * 3"
   ]
  },
  {
   "cell_type": "markdown",
   "id": "d2e35672",
   "metadata": {},
   "source": [
    "#### show updated alcohol column"
   ]
  },
  {
   "cell_type": "code",
   "execution_count": 32,
   "id": "ed8d4109",
   "metadata": {},
   "outputs": [
    {
     "data": {
      "text/plain": [
       "array([28.2, 29.4, 29.4, ..., 33. , 30.6, 33. ])"
      ]
     },
     "execution_count": 32,
     "metadata": {},
     "output_type": "execute_result"
    }
   ],
   "source": [
    "alcohol"
   ]
  },
  {
   "cell_type": "markdown",
   "id": "426df0b7",
   "metadata": {},
   "source": [
    "#### Add quality  column by  itself\n",
    "\n",
    "#### wines[:,-1] + wines[:,-1] + 20"
   ]
  },
  {
   "cell_type": "code",
   "execution_count": 33,
   "id": "d4296fe9",
   "metadata": {},
   "outputs": [],
   "source": [
    "add = quality + quality"
   ]
  },
  {
   "cell_type": "code",
   "execution_count": 34,
   "id": "5bcc87fd",
   "metadata": {},
   "outputs": [
    {
     "data": {
      "text/plain": [
       "array([30., 30., 30., ..., 32., 30., 32.])"
      ]
     },
     "execution_count": 34,
     "metadata": {},
     "output_type": "execute_result"
    }
   ],
   "source": [
    "add"
   ]
  },
  {
   "cell_type": "markdown",
   "id": "f4447146",
   "metadata": {},
   "source": [
    "#### Multiply alcohol and wine quality columns. It will perform element wise multiplication "
   ]
  },
  {
   "cell_type": "code",
   "execution_count": 35,
   "id": "9574dae6",
   "metadata": {},
   "outputs": [],
   "source": [
    "multiply = alcohol * quality"
   ]
  },
  {
   "cell_type": "code",
   "execution_count": 36,
   "id": "15e9a489",
   "metadata": {},
   "outputs": [
    {
     "data": {
      "text/plain": [
       "array([423., 441., 441., ..., 528., 459., 528.])"
      ]
     },
     "execution_count": 36,
     "metadata": {},
     "output_type": "execute_result"
    }
   ],
   "source": [
    "multiply"
   ]
  },
  {
   "cell_type": "markdown",
   "id": "81a704f5",
   "metadata": {},
   "source": [
    "## Broadcasting \n"
   ]
  },
  {
   "cell_type": "markdown",
   "id": "ceeb4847",
   "metadata": {},
   "source": [
    "#### Add every row of wines data with a random array of values \n"
   ]
  },
  {
   "cell_type": "code",
   "execution_count": 37,
   "id": "579b6861",
   "metadata": {},
   "outputs": [],
   "source": [
    "import numpy as np"
   ]
  },
  {
   "cell_type": "code",
   "execution_count": 38,
   "id": "66eb8341",
   "metadata": {},
   "outputs": [],
   "source": [
    "rand_array = np.random.randn(1,12)\n",
    "\n",
    "add = rand_array + wines"
   ]
  },
  {
   "cell_type": "markdown",
   "id": "25299e7a",
   "metadata": {},
   "source": [
    "#### Show rand_array"
   ]
  },
  {
   "cell_type": "code",
   "execution_count": 39,
   "id": "746f4528",
   "metadata": {},
   "outputs": [
    {
     "data": {
      "text/plain": [
       "array([[-0.55211839, -0.82199209,  0.21799148, -0.96189119,  0.83505618,\n",
       "         0.89556183, -1.1601269 ,  0.21673456, -0.32755911,  0.73512239,\n",
       "        -1.77925252,  0.87893945]])"
      ]
     },
     "execution_count": 39,
     "metadata": {},
     "output_type": "execute_result"
    }
   ],
   "source": [
    "rand_array"
   ]
  },
  {
   "cell_type": "markdown",
   "id": "708a3913",
   "metadata": {},
   "source": [
    "#### add wines and rand_array"
   ]
  },
  {
   "cell_type": "code",
   "execution_count": 40,
   "id": "a6304a60",
   "metadata": {},
   "outputs": [
    {
     "data": {
      "text/plain": [
       "array([[ 6.84788161, -0.12199209,  0.21799148, ...,  1.29512239,\n",
       "         7.62074748,  5.87893945],\n",
       "       [ 7.24788161,  0.05800791,  0.21799148, ...,  1.41512239,\n",
       "         8.02074748,  5.87893945],\n",
       "       [ 7.24788161, -0.06199209,  0.25799148, ...,  1.38512239,\n",
       "         8.02074748,  5.87893945],\n",
       "       ...,\n",
       "       [ 5.74788161, -0.31199209,  0.34799148, ...,  1.48512239,\n",
       "         9.22074748,  6.87893945],\n",
       "       [ 5.34788161, -0.17699209,  0.33799148, ...,  1.44512239,\n",
       "         8.42074748,  5.87893945],\n",
       "       [ 5.44788161, -0.51199209,  0.68799148, ...,  1.39512239,\n",
       "         9.22074748,  6.87893945]])"
      ]
     },
     "execution_count": 40,
     "metadata": {},
     "output_type": "execute_result"
    }
   ],
   "source": [
    "add1 = wines + rand_array\n",
    "add1"
   ]
  }
 ],
 "metadata": {
  "kernelspec": {
   "display_name": "Python 3",
   "language": "python",
   "name": "python3"
  },
  "language_info": {
   "codemirror_mode": {
    "name": "ipython",
    "version": 3
   },
   "file_extension": ".py",
   "mimetype": "text/x-python",
   "name": "python",
   "nbconvert_exporter": "python",
   "pygments_lexer": "ipython3",
   "version": "3.8.8"
  }
 },
 "nbformat": 4,
 "nbformat_minor": 5
}
